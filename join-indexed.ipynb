{
 "cells": [
  {
   "cell_type": "markdown",
   "metadata": {},
   "source": [
    "# Indexed joins with Dask and cuDF\n",
    "\n"
   ]
  },
  {
   "cell_type": "markdown",
   "metadata": {},
   "source": [
    "## Use a DGX"
   ]
  },
  {
   "cell_type": "code",
   "execution_count": null,
   "metadata": {},
   "outputs": [],
   "source": [
    "from dask.distributed import Client, wait\n",
    "from dask_cuda import LocalCUDACluster\n",
    "\n",
    "cluster = LocalCUDACluster(diagnostics_port=9000)\n",
    "client = Client(cluster)\n",
    "client"
   ]
  },
  {
   "cell_type": "markdown",
   "metadata": {},
   "source": [
    "## Create Random Dataset\n",
    "\n",
    "This runs on the GPU, and so is a little bit slow\n",
    "\n",
    "Also, cudf doesn't handle datetime indexes well yet, so we convert to integer dtype"
   ]
  },
  {
   "cell_type": "code",
   "execution_count": null,
   "metadata": {},
   "outputs": [],
   "source": [
    "import dask\n",
    "\n",
    "left = dask.datasets.timeseries(\n",
    "    '2000', '2001', \n",
    "    dtypes={'id': int, 'x': float, 'y': float},\n",
    "    freq='10ms',\n",
    "    partition_freq='2d',\n",
    ")\n",
    "left.index = left.index.astype(int)\n",
    "left = left.persist()\n",
    "\n",
    "right = dask.datasets.timeseries(\n",
    "    '2000', '2001', \n",
    "    dtypes={'z': float},\n",
    "    freq='100ms',\n",
    "    partition_freq='5d',\n",
    ")\n",
    "right.index = right.index.astype(int)\n",
    "right = right.persist()"
   ]
  },
  {
   "cell_type": "markdown",
   "metadata": {},
   "source": [
    "## Convert data to GPU and persist in device memory"
   ]
  },
  {
   "cell_type": "code",
   "execution_count": null,
   "metadata": {},
   "outputs": [],
   "source": [
    "import dask\n",
    "import cudf\n",
    "\n",
    "gleft = left.map_partitions(cudf.from_pandas)\n",
    "gright = right.map_partitions(cudf.from_pandas)\n",
    "\n",
    "gleft, gright = dask.persist(gleft, gright)  # persist data in device memory"
   ]
  },
  {
   "cell_type": "markdown",
   "metadata": {},
   "source": [
    "## Join on the index\n",
    "\n",
    "The indexes of both dataframes are co-sorted, so relatively little communication has to happen.  We just need to do a bit of rearrangement so that the 2-day partitioned dataframe aligns with the 5-day partitioned dataframe."
   ]
  },
  {
   "cell_type": "code",
   "execution_count": null,
   "metadata": {},
   "outputs": [],
   "source": [
    "out = gleft.merge(gright, left_index=True, right_index=True, how='inner')  # this is lazy\n",
    "out"
   ]
  },
  {
   "cell_type": "code",
   "execution_count": null,
   "metadata": {},
   "outputs": [],
   "source": [
    "import time\n",
    "start = time.time()"
   ]
  },
  {
   "cell_type": "code",
   "execution_count": null,
   "metadata": {},
   "outputs": [],
   "source": [
    "out = out.persist()\n",
    "%time _ = wait(out)"
   ]
  },
  {
   "cell_type": "code",
   "execution_count": null,
   "metadata": {},
   "outputs": [],
   "source": [
    "len(out)"
   ]
  },
  {
   "cell_type": "code",
   "execution_count": null,
   "metadata": {},
   "outputs": [],
   "source": [
    "_ = client.profile(start=start, filename='dask-cudf-join-profile.html')"
   ]
  },
  {
   "cell_type": "markdown",
   "metadata": {},
   "source": [
    "## Inspect output"
   ]
  },
  {
   "cell_type": "code",
   "execution_count": null,
   "metadata": {},
   "outputs": [],
   "source": [
    "out.partitions[1].head().to_pandas()"
   ]
  },
  {
   "cell_type": "code",
   "execution_count": null,
   "metadata": {},
   "outputs": [],
   "source": [
    "from distributed.utils import format_bytes"
   ]
  },
  {
   "cell_type": "code",
   "execution_count": null,
   "metadata": {},
   "outputs": [],
   "source": [
    "format_bytes(len(left) * 8 * len(left.columns))  # TODO: cudf needs `.memory_usage()` method"
   ]
  },
  {
   "cell_type": "code",
   "execution_count": null,
   "metadata": {},
   "outputs": [],
   "source": [
    "format_bytes(len(right) * 8 * len(right.columns))  # TODO: cudf needs `.memory_usage()` method"
   ]
  },
  {
   "cell_type": "code",
   "execution_count": null,
   "metadata": {},
   "outputs": [],
   "source": [
    "format_bytes(len(out) * 8 * len(out.columns))  # TODO: cudf needs `.memory_usage()` method"
   ]
  }
 ],
 "metadata": {
  "kernelspec": {
   "display_name": "Python [conda env:cudf]",
   "language": "python",
   "name": "conda-env-cudf-py"
  },
  "language_info": {
   "codemirror_mode": {
    "name": "ipython",
    "version": 3
   },
   "file_extension": ".py",
   "mimetype": "text/x-python",
   "name": "python",
   "nbconvert_exporter": "python",
   "pygments_lexer": "ipython3",
   "version": "3.7.1"
  }
 },
 "nbformat": 4,
 "nbformat_minor": 2
}
